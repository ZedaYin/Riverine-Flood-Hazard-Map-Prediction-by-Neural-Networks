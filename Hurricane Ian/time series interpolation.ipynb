{
 "cells": [
  {
   "cell_type": "code",
   "execution_count": 1,
   "id": "e891964b",
   "metadata": {},
   "outputs": [],
   "source": [
    "import numpy as np\n",
    "import pandas as pd"
   ]
  },
  {
   "cell_type": "code",
   "execution_count": 2,
   "id": "48804376",
   "metadata": {},
   "outputs": [
    {
     "data": {
      "text/html": [
       "<div>\n",
       "<style scoped>\n",
       "    .dataframe tbody tr th:only-of-type {\n",
       "        vertical-align: middle;\n",
       "    }\n",
       "\n",
       "    .dataframe tbody tr th {\n",
       "        vertical-align: top;\n",
       "    }\n",
       "\n",
       "    .dataframe thead th {\n",
       "        text-align: right;\n",
       "    }\n",
       "</style>\n",
       "<table border=\"1\" class=\"dataframe\">\n",
       "  <thead>\n",
       "    <tr style=\"text-align: right;\">\n",
       "      <th></th>\n",
       "      <th>Time</th>\n",
       "      <th>Stage</th>\n",
       "    </tr>\n",
       "  </thead>\n",
       "  <tbody>\n",
       "    <tr>\n",
       "      <th>0</th>\n",
       "      <td>9/25/2022 0:00</td>\n",
       "      <td>1.65</td>\n",
       "    </tr>\n",
       "    <tr>\n",
       "      <th>1</th>\n",
       "      <td>9/25/2022 0:01</td>\n",
       "      <td>1.62</td>\n",
       "    </tr>\n",
       "    <tr>\n",
       "      <th>2</th>\n",
       "      <td>9/25/2022 0:02</td>\n",
       "      <td>1.60</td>\n",
       "    </tr>\n",
       "    <tr>\n",
       "      <th>3</th>\n",
       "      <td>9/25/2022 0:07</td>\n",
       "      <td>1.57</td>\n",
       "    </tr>\n",
       "    <tr>\n",
       "      <th>4</th>\n",
       "      <td>9/25/2022 0:11</td>\n",
       "      <td>1.54</td>\n",
       "    </tr>\n",
       "    <tr>\n",
       "      <th>...</th>\n",
       "      <td>...</td>\n",
       "      <td>...</td>\n",
       "    </tr>\n",
       "    <tr>\n",
       "      <th>4100</th>\n",
       "      <td>10/1/2022 23:48</td>\n",
       "      <td>3.34</td>\n",
       "    </tr>\n",
       "    <tr>\n",
       "      <th>4101</th>\n",
       "      <td>10/1/2022 23:49</td>\n",
       "      <td>3.37</td>\n",
       "    </tr>\n",
       "    <tr>\n",
       "      <th>4102</th>\n",
       "      <td>10/1/2022 23:53</td>\n",
       "      <td>3.41</td>\n",
       "    </tr>\n",
       "    <tr>\n",
       "      <th>4103</th>\n",
       "      <td>10/1/2022 23:54</td>\n",
       "      <td>3.38</td>\n",
       "    </tr>\n",
       "    <tr>\n",
       "      <th>4104</th>\n",
       "      <td>10/1/2022 23:59</td>\n",
       "      <td>3.41</td>\n",
       "    </tr>\n",
       "  </tbody>\n",
       "</table>\n",
       "<p>4105 rows × 2 columns</p>\n",
       "</div>"
      ],
      "text/plain": [
       "                 Time  Stage\n",
       "0      9/25/2022 0:00   1.65\n",
       "1      9/25/2022 0:01   1.62\n",
       "2      9/25/2022 0:02   1.60\n",
       "3      9/25/2022 0:07   1.57\n",
       "4      9/25/2022 0:11   1.54\n",
       "...               ...    ...\n",
       "4100  10/1/2022 23:48   3.34\n",
       "4101  10/1/2022 23:49   3.37\n",
       "4102  10/1/2022 23:53   3.41\n",
       "4103  10/1/2022 23:54   3.38\n",
       "4104  10/1/2022 23:59   3.41\n",
       "\n",
       "[4105 rows x 2 columns]"
      ]
     },
     "execution_count": 2,
     "metadata": {},
     "output_type": "execute_result"
    }
   ],
   "source": [
    "df = pd.read_csv(r'Ian S4.csv')\n",
    "df"
   ]
  },
  {
   "cell_type": "code",
   "execution_count": 3,
   "id": "f07b5e3f",
   "metadata": {},
   "outputs": [],
   "source": [
    "df.drop_duplicates(subset=['Time'], inplace=True)\n",
    "df['Time'] = pd.to_datetime(df['Time'])"
   ]
  },
  {
   "cell_type": "code",
   "execution_count": 4,
   "id": "99f08785",
   "metadata": {},
   "outputs": [],
   "source": [
    "df.set_index('Time', inplace=True)"
   ]
  },
  {
   "cell_type": "code",
   "execution_count": 5,
   "id": "d1ccb571",
   "metadata": {},
   "outputs": [
    {
     "data": {
      "text/plain": [
       "Time\n",
       "2022-09-25 00:00:00    1.65\n",
       "2022-09-25 01:00:00    1.21\n",
       "2022-09-25 02:00:00    1.03\n",
       "2022-09-25 03:00:00    1.15\n",
       "2022-09-25 04:00:00    1.53\n",
       "                       ... \n",
       "2022-10-01 19:00:00    1.85\n",
       "2022-10-01 20:00:00    1.91\n",
       "2022-10-01 21:00:00    2.33\n",
       "2022-10-01 22:00:00    2.72\n",
       "2022-10-01 23:00:00    3.14\n",
       "Freq: H, Name: Stage, Length: 168, dtype: float64"
      ]
     },
     "execution_count": 5,
     "metadata": {},
     "output_type": "execute_result"
    }
   ],
   "source": [
    "df1 = df['Stage'].resample('1H').ffill()\n",
    "df1"
   ]
  },
  {
   "cell_type": "code",
   "execution_count": 6,
   "id": "30c40ec3",
   "metadata": {},
   "outputs": [],
   "source": [
    "df1.to_csv(\"inter Ian S4.csv\")"
   ]
  },
  {
   "cell_type": "code",
   "execution_count": null,
   "id": "080c9003",
   "metadata": {},
   "outputs": [],
   "source": []
  }
 ],
 "metadata": {
  "kernelspec": {
   "display_name": "Python 3 (ipykernel)",
   "language": "python",
   "name": "python3"
  },
  "language_info": {
   "codemirror_mode": {
    "name": "ipython",
    "version": 3
   },
   "file_extension": ".py",
   "mimetype": "text/x-python",
   "name": "python",
   "nbconvert_exporter": "python",
   "pygments_lexer": "ipython3",
   "version": "3.9.7"
  }
 },
 "nbformat": 4,
 "nbformat_minor": 5
}
